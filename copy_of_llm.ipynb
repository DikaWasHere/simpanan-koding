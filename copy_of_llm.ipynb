{
  "nbformat": 4,
  "nbformat_minor": 0,
  "metadata": {
    "colab": {
      "private_outputs": true,
      "provenance": [],
      "include_colab_link": true
    },
    "kernelspec": {
      "name": "python3",
      "display_name": "Python 3"
    },
    "language_info": {
      "name": "python"
    }
  },
  "cells": [
    {
      "cell_type": "markdown",
      "metadata": {
        "id": "view-in-github",
        "colab_type": "text"
      },
      "source": [
        "<a href=\"https://colab.research.google.com/github/DikaWasHere/simpanan-koding/blob/master/copy_of_llm.ipynb\" target=\"_parent\"><img src=\"https://colab.research.google.com/assets/colab-badge.svg\" alt=\"Open In Colab\"/></a>"
      ]
    },
    {
      "cell_type": "code",
      "execution_count": null,
      "metadata": {
        "id": "8O6Gy5BOtaFK"
      },
      "outputs": [],
      "source": [
        "!pip install -U -q google-generativeai langchain langchain-google-genai langchain_community pypdf chromadb"
      ]
    },
    {
      "cell_type": "code",
      "source": [
        "from google.colab import userdata\n",
        "from langchain_text_splitters import NLTKTextSplitter\n",
        "from langchain_google_genai import ChatGoogleGenerativeAI\n",
        "from langchain_google_genai import GoogleGenerativeAIEmbeddings\n",
        "from langchain_community.vectorstores import Chroma\n",
        "from langchain_community.vectorstores import Typesense\n",
        "from IPython.display import Markdown as md"
      ],
      "metadata": {
        "id": "yRVfQPEawB2W"
      },
      "execution_count": null,
      "outputs": []
    },
    {
      "cell_type": "code",
      "source": [
        "import nltk\n",
        "nltk.download('punkt_tab')"
      ],
      "metadata": {
        "id": "azuRXwBDzFPc"
      },
      "execution_count": null,
      "outputs": []
    },
    {
      "cell_type": "markdown",
      "source": [
        "##Download file dan Load (PDF)"
      ],
      "metadata": {
        "id": "iAcxEUU23R3r"
      }
    },
    {
      "cell_type": "code",
      "source": [
        "!curl -o coba.pdf https://eprints.widyayuwana.ac.id/id/eprint/115/1/Adelina%20Damayanti%20%28Paper%20UTS%20Kewarganegaraan%29.pdf"
      ],
      "metadata": {
        "id": "ixaMgeqq12RW"
      },
      "execution_count": null,
      "outputs": []
    },
    {
      "cell_type": "code",
      "source": [
        "from langchain.document_loaders import PyPDFLoader\n",
        "loader = PyPDFLoader('coba.pdf')\n",
        "pages = loader.load_and_split()"
      ],
      "metadata": {
        "id": "MOJLd92z3Wsi"
      },
      "execution_count": null,
      "outputs": []
    },
    {
      "cell_type": "code",
      "source": [
        "md(pages[1].page_content)"
      ],
      "metadata": {
        "id": "TGPoXKVL4zq4"
      },
      "execution_count": null,
      "outputs": []
    },
    {
      "cell_type": "code",
      "source": [
        "len(pages)"
      ],
      "metadata": {
        "id": "1LfirAO25c3b"
      },
      "execution_count": null,
      "outputs": []
    },
    {
      "cell_type": "markdown",
      "source": [
        "##LLM"
      ],
      "metadata": {
        "id": "2_ObSqMG5YGM"
      }
    },
    {
      "cell_type": "code",
      "source": [
        "api_key = userdata.get('chatbot')\n",
        "chat_model= ChatGoogleGenerativeAI(google_api_key=api_key,\n",
        "                                   model='gemini-2.5-flash',\n",
        "                                   temperature=0.9)"
      ],
      "metadata": {
        "id": "366WYKLi0c1b"
      },
      "execution_count": null,
      "outputs": []
    },
    {
      "cell_type": "markdown",
      "source": [
        "##chunking 42:30"
      ],
      "metadata": {
        "id": "YoGgBbm8zYej"
      }
    },
    {
      "cell_type": "code",
      "source": [
        "simple_docs = '''halo nama saya sardi irfansyah. saya lahir di jakarta. saya irfan. tinggal di jakarta'''\n",
        "print('total karakter:',len(simple_docs))\n",
        "text_splitter = NLTKTextSplitter(separator='\\n\\n',chunk_size=67,\n",
        "                             chunk_overlap=10)\n",
        "\n",
        "chunks= text_splitter.split_text(simple_docs)\n",
        "# print(len(chunks))\n",
        "\n",
        "for i, chunk in enumerate(chunks):\n",
        "    print(f'panjang chunk {i+1}: {len(chunk)}')\n",
        "    print(f'chunk {i+1}:')\n",
        "    print(chunk)\n",
        "    print('-'*50)"
      ],
      "metadata": {
        "id": "ancdiCYR5yAH"
      },
      "execution_count": null,
      "outputs": []
    },
    {
      "cell_type": "code",
      "source": [
        "text_splitter= NLTKTextSplitter(chunk_size=500,\n",
        "                             chunk_overlap=100)\n",
        "\n",
        "chunks= text_splitter.split_documents(pages)\n",
        "print(len(chunks))"
      ],
      "metadata": {
        "id": "cUqvbpV54CEl"
      },
      "execution_count": null,
      "outputs": []
    },
    {
      "cell_type": "code",
      "source": [
        "chunks[3].page_content"
      ],
      "metadata": {
        "id": "lxii9cVHIo9o"
      },
      "execution_count": null,
      "outputs": []
    },
    {
      "cell_type": "markdown",
      "source": [
        "##Embeding"
      ],
      "metadata": {
        "id": "fZDXbQvXzgNT"
      }
    },
    {
      "cell_type": "code",
      "source": [
        "embedding_model = GoogleGenerativeAIEmbeddings(google_api_key=api_key,model= \"models/embedding-001\")"
      ],
      "metadata": {
        "id": "riEguXG_zhWD"
      },
      "execution_count": null,
      "outputs": []
    },
    {
      "cell_type": "code",
      "source": [
        "embedding_model"
      ],
      "metadata": {
        "id": "__9OsbkfM7VP"
      },
      "execution_count": null,
      "outputs": []
    },
    {
      "cell_type": "markdown",
      "source": [
        "##Vector Database"
      ],
      "metadata": {
        "id": "HOivOOf1Jenq"
      }
    },
    {
      "cell_type": "code",
      "metadata": {
        "id": "593b9c99"
      },
      "source": [
        "from langchain_community.embeddings import HuggingFaceEmbeddings\n",
        "\n",
        "# Initialize a free embedding model from Hugging Face\n",
        "# You can explore different models on the Hugging Face Hub\n",
        "embedding_model = HuggingFaceEmbeddings(model_name=\"sentence-transformers/all-MiniLM-L6-v2\")\n",
        "\n",
        "print(\"Hugging Face embedding model initialized.\")"
      ],
      "execution_count": null,
      "outputs": []
    },
    {
      "cell_type": "code",
      "source": [
        "# Recreate the Chroma database with the Hugging Face embedding model\n",
        "db_connection = Chroma.from_documents(chunks, embedding_model, persist_directory='./Chroma.db_')"
      ],
      "metadata": {
        "id": "E18rLZjSOli3"
      },
      "execution_count": null,
      "outputs": []
    },
    {
      "cell_type": "code",
      "source": [
        "retriever = db_connection.as_retriever(search_kwargs={\"k\": 14})\n",
        "print(type(retriever))"
      ],
      "metadata": {
        "id": "m2BTw6E6PKyo"
      },
      "execution_count": null,
      "outputs": []
    },
    {
      "cell_type": "code",
      "source": [
        "check_response = retriever.invoke('jelaskan Undang-Undang Dasar mengenai Hak dan Kewajiban Warga Negara?')\n",
        "md(check_response[0].page_content)"
      ],
      "metadata": {
        "id": "Cz-mqy8LPgjP"
      },
      "execution_count": null,
      "outputs": []
    },
    {
      "cell_type": "code",
      "metadata": {
        "id": "bfc7726c"
      },
      "source": [
        "def format_docs(docs):\n",
        "    return \"\\n\\n\".join(doc.page_content for doc in docs)"
      ],
      "execution_count": null,
      "outputs": []
    },
    {
      "cell_type": "markdown",
      "source": [
        "##Prompt"
      ],
      "metadata": {
        "id": "PXEmSFj1JhGq"
      }
    },
    {
      "cell_type": "code",
      "source": [
        "from langchain_core.messages import SystemMessage\n",
        "from langchain_core.prompts import ChatPromptTemplate, HumanMessagePromptTemplate"
      ],
      "metadata": {
        "id": "xoKDZD1lJjDq"
      },
      "execution_count": null,
      "outputs": []
    },
    {
      "cell_type": "code",
      "source": [
        "chat_template = ChatPromptTemplate.from_messages([\n",
        "    SystemMessage(content='Anda adalah AI pintar yang dapat menjawab pertanyaan sesuai konteks yang diberikan.'),\n",
        "    HumanMessagePromptTemplate.from_template('''Jawab pertanyaan berikut berdasarkan konteks.\n",
        "    konteks: {context}\n",
        "    pertanyaan: {question}\n",
        "    jawaban: ''')\n",
        "])\n"
      ],
      "metadata": {
        "id": "lj1GRi-4Wh0e"
      },
      "execution_count": null,
      "outputs": []
    },
    {
      "cell_type": "code",
      "source": [
        "from langchain_core.output_parsers import StrOutputParser\n",
        "output_parser = StrOutputParser()"
      ],
      "metadata": {
        "id": "zT_IMjVfYnRr"
      },
      "execution_count": null,
      "outputs": []
    },
    {
      "cell_type": "code",
      "metadata": {
        "id": "0608deaa"
      },
      "source": [
        "from langchain_core.runnables import RunnablePassthrough\n",
        "rag_chain = (\n",
        "    {\n",
        "        \"context\": retriever | format_docs,\n",
        "        \"question\": RunnablePassthrough()\n",
        "    }\n",
        "    | chat_template\n",
        "    | chat_model\n",
        "    | output_parser\n",
        ")"
      ],
      "execution_count": null,
      "outputs": []
    },
    {
      "cell_type": "code",
      "source": [
        "def format_docs(docs):\n",
        "    return \"\\n\\n\".join(doc.page_content for doc in docs)"
      ],
      "metadata": {
        "id": "_7s9kPVsYrFD"
      },
      "execution_count": null,
      "outputs": []
    },
    {
      "cell_type": "code",
      "source": [
        "formatted_docs = format_docs(chunks)\n",
        "md(formatted_docs)"
      ],
      "metadata": {
        "id": "DVCL00e0Yr-Z"
      },
      "execution_count": null,
      "outputs": []
    },
    {
      "cell_type": "code",
      "metadata": {
        "id": "d4f4bbb6"
      },
      "source": [
        "response = rag_chain.invoke(\"jelaskan Undang-Undang Dasar mengenai Hak dan Kewajiban Warga Negara?\")\n",
        "print(response)"
      ],
      "execution_count": null,
      "outputs": []
    },
    {
      "cell_type": "code",
      "source": [
        "response = rag_chain.invoke(\"apa itu Upaya Pewujudan Kewajiban sebagai Warga Negara?\")\n",
        "print(response)"
      ],
      "metadata": {
        "id": "fj8mmjdHVoeW"
      },
      "execution_count": null,
      "outputs": []
    },
    {
      "cell_type": "code",
      "source": [],
      "metadata": {
        "id": "8gF1MrQLVw9c"
      },
      "execution_count": null,
      "outputs": []
    }
  ]
}